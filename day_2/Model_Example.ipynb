{
 "cells": [
  {
   "cell_type": "markdown",
   "id": "eceeab18-bf70-42d5-a1ed-368057daee63",
   "metadata": {},
   "source": [
    "## Importing libraries"
   ]
  },
  {
   "cell_type": "code",
   "execution_count": 1,
   "id": "97710766-452d-4c93-956d-1bdcfdc88d81",
   "metadata": {},
   "outputs": [],
   "source": [
    "import sys, os, random\n",
    "import numpy as np\n",
    "import tensorflow as tf\n",
    "from tensorflow.keras.models import Sequential\n",
    "from tensorflow.keras.layers import Dense, InputLayer, Dropout, Conv1D, Conv2D, Flatten, Reshape, MaxPooling1D, MaxPooling2D, BatchNormalization, TimeDistributed\n",
    "from tensorflow.keras.optimizers import Adam\n",
    "import matplotlib.pyplot as plt\n",
    "from sklearn.model_selection import train_test_split\n",
    "from pathlib import Path\n",
    "import logging"
   ]
  },
  {
   "cell_type": "markdown",
   "id": "3c4c03c8-13ff-4b60-8e92-04667ce8cb8b",
   "metadata": {},
   "source": [
    "## Getting the data"
   ]
  },
  {
   "cell_type": "code",
   "execution_count": 2,
   "id": "58f870eb-c63a-4565-a26d-84b13a9870d9",
   "metadata": {},
   "outputs": [
    {
     "data": {
      "text/plain": [
       "((9986, 3072), (9986,))"
      ]
     },
     "execution_count": 2,
     "metadata": {},
     "output_type": "execute_result"
    }
   ],
   "source": [
    "data_path = Path(\"../data/\")\n",
    "# Define data path\n",
    "X_path = Path('../data/ei-image_classification_lacoro-image-X_training.npy')\n",
    "Y_path = Path('../data/ei-image_classification_lacoro-image-y_training.npy')\n",
    "\n",
    "# Load the data\n",
    "X = np.load(X_path.resolve())\n",
    "Y = np.load(Y_path.resolve())[:,0]\n",
    "\n",
    "#data_shape\n",
    "X.shape, Y.shape"
   ]
  },
  {
   "cell_type": "code",
   "execution_count": null,
   "id": "a40e939b-a880-4715-b6b1-42c1b238c93f",
   "metadata": {},
   "outputs": [],
   "source": []
  },
  {
   "cell_type": "code",
   "execution_count": 3,
   "id": "40c9717e-39fa-434b-b52a-e5f376b4ca6e",
   "metadata": {},
   "outputs": [
    {
     "name": "stdout",
     "output_type": "stream",
     "text": [
      "\t Label Image==>  1\n"
     ]
    },
    {
     "data": {
      "image/png": "[encoded data removed]",
      "text/plain": [
       "<Figure size 640x480 with 1 Axes>"
      ]
     },
     "metadata": {},
     "output_type": "display_data"
    }
   ],
   "source": [
    "image = X[3]\n",
    "label = Y[3]\n",
    "\n",
    "print(\"\\t Label Image==> \",label)\n",
    "img = tf.reshape(image, (32,32,3)) # 32x32x3 channels\n",
    "plt.imshow(img);"
   ]
  },
  {
   "cell_type": "code",
   "execution_count": 4,
   "id": "ae9dd5c6-5bbf-4835-be07-481f9dc5972c",
   "metadata": {},
   "outputs": [],
   "source": [
    "\n",
    "tf.get_logger().setLevel(logging.ERROR)\n",
    "os.environ['TF_CPP_MIN_LOG_LEVEL'] = '2'\n",
    "\n",
    "# Set random seeds for repeatable results\n",
    "RANDOM_SEED = 3\n",
    "random.seed(RANDOM_SEED)\n",
    "np.random.seed(RANDOM_SEED)\n",
    "tf.random.set_seed(RANDOM_SEED)\n",
    "\n",
    "classes_values = [ \"cat\", \"dog\" ]\n",
    "classes = len(classes_values)\n",
    "\n",
    "Y = tf.keras.utils.to_categorical(Y - 1, classes)\n",
    "\n",
    "X_train, X_test, Y_train, Y_test = train_test_split(X, Y, test_size=0.2, random_state=1)\n",
    "\n",
    "input_length = X_train[0].shape[0]\n",
    "\n",
    "train_dataset = tf.data.Dataset.from_tensor_slices((X_train, Y_train))\n",
    "validation_dataset = tf.data.Dataset.from_tensor_slices((X_test, Y_test))\n",
    "\n",
    "def get_reshape_function(reshape_to):\n",
    "    def reshape(image, label):\n",
    "        return tf.reshape(image, reshape_to), label\n",
    "    return reshape\n",
    "\n",
    "callbacks = []\n"
   ]
  },
  {
   "cell_type": "code",
   "execution_count": 7,
   "id": "167f4ae6-861c-4be6-aef7-8ea7aa5d9f32",
   "metadata": {},
   "outputs": [
    {
     "data": {
      "text/plain": [
       "\u001b[0;31mInit signature:\u001b[0m \u001b[0mDropout\u001b[0m\u001b[0;34m(\u001b[0m\u001b[0mrate\u001b[0m\u001b[0;34m,\u001b[0m \u001b[0mnoise_shape\u001b[0m\u001b[0;34m=\u001b[0m\u001b[0;32mNone\u001b[0m\u001b[0;34m,\u001b[0m \u001b[0mseed\u001b[0m\u001b[0;34m=\u001b[0m\u001b[0;32mNone\u001b[0m\u001b[0;34m,\u001b[0m \u001b[0;34m**\u001b[0m\u001b[0mkwargs\u001b[0m\u001b[0;34m)\u001b[0m\u001b[0;34m\u001b[0m\u001b[0;34m\u001b[0m\u001b[0m\n",
       "\u001b[0;31mDocstring:\u001b[0m     \n",
       "Applies dropout to the input.\n",
       "\n",
       "The `Dropout` layer randomly sets input units to 0 with a frequency of\n",
       "`rate` at each step during training time, which helps prevent overfitting.\n",
       "Inputs not set to 0 are scaled up by `1 / (1 - rate)` such that the sum over\n",
       "all inputs is unchanged.\n",
       "\n",
       "Note that the `Dropout` layer only applies when `training` is set to `True`\n",
       "in `call()`, such that no values are dropped during inference.\n",
       "When using `model.fit`, `training` will be appropriately set to `True`\n",
       "automatically. In other contexts, you can set the argument explicitly\n",
       "to `True` when calling the layer.\n",
       "\n",
       "(This is in contrast to setting `trainable=False` for a `Dropout` layer.\n",
       "`trainable` does not affect the layer's behavior, as `Dropout` does\n",
       "not have any variables/weights that can be frozen during training.)\n",
       "\n",
       "Args:\n",
       "    rate: Float between 0 and 1. Fraction of the input units to drop.\n",
       "    noise_shape: 1D integer tensor representing the shape of the\n",
       "        binary dropout mask that will be multiplied with the input.\n",
       "        For instance, if your inputs have shape\n",
       "        `(batch_size, timesteps, features)` and\n",
       "        you want the dropout mask to be the same for all timesteps,\n",
       "        you can use `noise_shape=(batch_size, 1, features)`.\n",
       "    seed: A Python integer to use as random seed.\n",
       "\n",
       "Call arguments:\n",
       "    inputs: Input tensor (of any rank).\n",
       "    training: Python boolean indicating whether the layer should behave in\n",
       "        training mode (adding dropout) or in inference mode (doing nothing).\n",
       "\u001b[0;31mFile:\u001b[0m           ~/Documents/GitHub/esp32s3_object_detection/.venv/lib/python3.12/site-packages/keras/src/layers/regularization/dropout.py\n",
       "\u001b[0;31mType:\u001b[0m           type\n",
       "\u001b[0;31mSubclasses:\u001b[0m     BaseSpatialDropout"
      ]
     },
     "metadata": {},
     "output_type": "display_data"
    }
   ],
   "source": [
    "Dropout?"
   ]
  },
  {
   "cell_type": "code",
   "execution_count": 5,
   "id": "48bd2f1b-bc95-481d-9962-cf4fb609e2b3",
   "metadata": {},
   "outputs": [
    {
     "name": "stdout",
     "output_type": "stream",
     "text": [
      "Epoch 1/10\n",
      "250/250 - 2s - 9ms/step - accuracy: 0.5827 - loss: 0.6722 - val_accuracy: 0.6391 - val_loss: 0.6471\n",
      "Epoch 2/10\n",
      "250/250 - 2s - 8ms/step - accuracy: 0.6601 - loss: 0.6204 - val_accuracy: 0.6867 - val_loss: 0.5898\n",
      "Epoch 3/10\n",
      "250/250 - 2s - 8ms/step - accuracy: 0.6914 - loss: 0.5828 - val_accuracy: 0.7027 - val_loss: 0.5668\n",
      "Epoch 4/10\n",
      "250/250 - 2s - 8ms/step - accuracy: 0.7196 - loss: 0.5477 - val_accuracy: 0.7232 - val_loss: 0.5454\n",
      "Epoch 5/10\n",
      "250/250 - 2s - 9ms/step - accuracy: 0.7399 - loss: 0.5182 - val_accuracy: 0.7212 - val_loss: 0.5391\n",
      "Epoch 6/10\n",
      "250/250 - 2s - 9ms/step - accuracy: 0.7588 - loss: 0.4938 - val_accuracy: 0.7277 - val_loss: 0.5278\n",
      "Epoch 7/10\n",
      "250/250 - 2s - 9ms/step - accuracy: 0.7777 - loss: 0.4674 - val_accuracy: 0.7302 - val_loss: 0.5297\n",
      "Epoch 8/10\n",
      "250/250 - 2s - 9ms/step - accuracy: 0.7962 - loss: 0.4411 - val_accuracy: 0.7337 - val_loss: 0.5311\n",
      "Epoch 9/10\n",
      "250/250 - 2s - 9ms/step - accuracy: 0.8085 - loss: 0.4156 - val_accuracy: 0.7322 - val_loss: 0.5516\n",
      "Epoch 10/10\n",
      "250/250 - 2s - 9ms/step - accuracy: 0.8235 - loss: 0.3878 - val_accuracy: 0.7367 - val_loss: 0.5508\n"
     ]
    }
   ],
   "source": [
    "\n",
    "# model architecture\n",
    "model = Sequential()\n",
    "model.add(Conv2D(32, kernel_size=3, activation='relu', kernel_constraint=tf.keras.constraints.MaxNorm(1), padding='same'))\n",
    "model.add(MaxPooling2D(pool_size=2, strides=2, padding='same'))\n",
    "model.add(Conv2D(64, kernel_size=3, activation='relu', kernel_constraint=tf.keras.constraints.MaxNorm(1), padding='same'))\n",
    "model.add(MaxPooling2D(pool_size=2, strides=2, padding='same'))\n",
    "model.add(Flatten())\n",
    "model.add(Dropout(0.1))\n",
    "model.add(Dense(64, activation='relu',\n",
    "    activity_regularizer=tf.keras.regularizers.l1(0.00001)))\n",
    "model.add(Dense(classes, activation='softmax', name='y_pred'))\n",
    "\n",
    "# this controls the learning rate\n",
    "opt = Adam(learning_rate=0.0005, beta_1=0.9, beta_2=0.999)\n",
    "# This is only required for some input types, e.g. images\n",
    "SPECIFIC_INPUT_SHAPE = (32, 32, 3)\n",
    "train_dataset = train_dataset.map(get_reshape_function(SPECIFIC_INPUT_SHAPE), tf.data.experimental.AUTOTUNE)\n",
    "validation_dataset = validation_dataset.map(get_reshape_function(SPECIFIC_INPUT_SHAPE), tf.data.experimental.AUTOTUNE)\n",
    "# this controls the batch size, or you can manipulate the tf.data.Dataset objects yourself\n",
    "BATCH_SIZE = 32\n",
    "train_dataset = train_dataset.batch(BATCH_SIZE, drop_remainder=False)\n",
    "validation_dataset = validation_dataset.batch(BATCH_SIZE, drop_remainder=False)\n",
    "\n",
    "# train the neural network\n",
    "model.compile(loss='categorical_crossentropy', optimizer=opt, metrics=['accuracy'])\n",
    "history = model.fit(train_dataset, epochs=10, validation_data=validation_dataset, verbose=2, callbacks=callbacks)\n"
   ]
  },
  {
   "cell_type": "code",
   "execution_count": 6,
   "id": "9ec15623-a8f1-410b-a0c4-386697c05e89",
   "metadata": {},
   "outputs": [
    {
     "data": {
      "image/png": "[encoded data removed]",
      "text/plain": [
       "<Figure size 640x480 with 1 Axes>"
      ]
     },
     "metadata": {},
     "output_type": "display_data"
    }
   ],
   "source": [
    "# summarize history for accuracy\n",
    "plt.plot(history.history['accuracy'])\n",
    "plt.plot(history.history['val_accuracy'])\n",
    "plt.title('model accuracy')\n",
    "plt.ylabel('accuracy')\n",
    "plt.xlabel('epoch')\n",
    "plt.legend(['train', 'validation'], loc='upper left')\n",
    "plt.show()"
   ]
  },
  {
   "cell_type": "code",
   "execution_count": null,
   "id": "893a139c",
   "metadata": {},
   "outputs": [],
   "source": [
    "model.summary()"
   ]
  },
  {
   "cell_type": "code",
   "execution_count": null,
   "id": "467cb740-493b-4214-87bf-ac227219047a",
   "metadata": {},
   "outputs": [],
   "source": [
    "# Save the model to disk\n",
    "model.export('saved_model.zip')"
   ]
  },
  {
   "cell_type": "code",
   "execution_count": null,
   "id": "47eec8ea-ce06-47ca-9e77-45d40d634b74",
   "metadata": {},
   "outputs": [],
   "source": []
  }
 ],
 "metadata": {
  "kernelspec": {
   "display_name": "Python 3 (ipykernel)",
   "language": "python",
   "name": "python3"
  },
  "language_info": {
   "codemirror_mode": {
    "name": "ipython",
    "version": 3
   },
   "file_extension": ".py",
   "mimetype": "text/x-python",
   "name": "python",
   "nbconvert_exporter": "python",
   "pygments_lexer": "ipython3",
   "version": "3.12.6"
  }
 },
 "nbformat": 4,
 "nbformat_minor": 5
}
