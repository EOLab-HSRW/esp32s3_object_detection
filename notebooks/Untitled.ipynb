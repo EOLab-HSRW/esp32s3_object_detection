{
 "cells": [
  {
   "cell_type": "markdown",
   "id": "eceeab18-bf70-42d5-a1ed-368057daee63",
   "metadata": {},
   "source": [
    "## Importing libraries"
   ]
  },
  {
   "cell_type": "code",
   "execution_count": 1,
   "id": "97710766-452d-4c93-956d-1bdcfdc88d81",
   "metadata": {},
   "outputs": [],
   "source": [
    "import sys, os, random\n",
    "import numpy as np\n",
    "import tensorflow as tf\n",
    "from tensorflow.keras.models import Sequential\n",
    "from tensorflow.keras.layers import Dense, InputLayer, Dropout, Conv1D, Conv2D, Flatten, Reshape, MaxPooling1D, MaxPooling2D, BatchNormalization, TimeDistributed\n",
    "from tensorflow.keras.optimizers import Adam\n",
    "import matplotlib.pyplot as plt\n",
    "from sklearn.model_selection import train_test_split"
   ]
  },
  {
   "cell_type": "markdown",
   "id": "3c4c03c8-13ff-4b60-8e92-04667ce8cb8b",
   "metadata": {},
   "source": [
    "## Getting the data"
   ]
  },
  {
   "cell_type": "code",
   "execution_count": 15,
   "id": "e142caec-59e2-4fb9-a9a9-7ef5c41d246f",
   "metadata": {},
   "outputs": [],
   "source": [
    "import edgeimpulse as ei\n",
    "\n",
    "# Change to an API key from your Edge Impulse project\n",
    "API_KEY = \"ei_47faec1d19956cff1c6fcf700ae28fd238f65385b9160831cf8d5fade12f8d67\"\n",
    "ei.API_KEY = API_KEY\n",
    "\n",
    "sampleinfo = ei.data.get_sample_ids(category='training')"
   ]
  },
  {
   "cell_type": "code",
   "execution_count": 16,
   "id": "ac0efb81-aaca-4000-aad4-635f0b6bb833",
   "metadata": {},
   "outputs": [],
   "source": [
    "#ei.datasets.list_datasets()"
   ]
  },
  {
   "cell_type": "code",
   "execution_count": 17,
   "id": "38a21999-2851-4e39-8d2a-1df4b9152a52",
   "metadata": {},
   "outputs": [
    {
     "data": {
      "text/plain": [
       "[SampleInfo(sample_id=1489540800, filename='0782', category='training', label='dog'),\n",
       " SampleInfo(sample_id=1489540799, filename='4296', category='training', label='dog'),\n",
       " SampleInfo(sample_id=1489540798, filename='2181', category='training', label='dog'),\n",
       " SampleInfo(sample_id=1489540797, filename='1463', category='training', label='dog'),\n",
       " SampleInfo(sample_id=1489540796, filename='1488', category='training', label='dog'),\n",
       " SampleInfo(sample_id=1489540795, filename='0796', category='training', label='dog'),\n",
       " SampleInfo(sample_id=1489540794, filename='3512', category='training', label='dog'),\n",
       " SampleInfo(sample_id=1489540793, filename='3274', category='training', label='dog'),\n",
       " SampleInfo(sample_id=1489540792, filename='1305', category='training', label='dog'),\n",
       " SampleInfo(sample_id=1489540791, filename='3506', category='training', label='dog')]"
      ]
     },
     "execution_count": 17,
     "metadata": {},
     "output_type": "execute_result"
    }
   ],
   "source": [
    "sampleinfo[:10]"
   ]
  },
  {
   "cell_type": "code",
   "execution_count": 18,
   "id": "a7cf6469-225b-4c96-8b30-0017245fda1f",
   "metadata": {},
   "outputs": [],
   "source": [
    "list_sample_ids = [sample.sample_id for sample in iter(sampleinfo)]"
   ]
  },
  {
   "cell_type": "code",
   "execution_count": 20,
   "id": "f4d823ef-541a-4609-8e88-92516674c490",
   "metadata": {},
   "outputs": [],
   "source": [
    "df = ei.data.download_samples_by_ids(sample_ids=list_sample_ids)"
   ]
  },
  {
   "cell_type": "code",
   "execution_count": null,
   "id": "c9fa3897-dfdf-4297-8b90-dca334891053",
   "metadata": {},
   "outputs": [],
   "source": []
  }
 ],
 "metadata": {
  "kernelspec": {
   "display_name": "Python 3 (ipykernel)",
   "language": "python",
   "name": "python3"
  },
  "language_info": {
   "codemirror_mode": {
    "name": "ipython",
    "version": 3
   },
   "file_extension": ".py",
   "mimetype": "text/x-python",
   "name": "python",
   "nbconvert_exporter": "python",
   "pygments_lexer": "ipython3",
   "version": "3.12.6"
  }
 },
 "nbformat": 4,
 "nbformat_minor": 5
}
